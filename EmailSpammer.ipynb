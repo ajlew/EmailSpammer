{
 "cells": [
  {
   "cell_type": "markdown",
   "metadata": {},
   "source": [
    "### version 1"
   ]
  },
  {
   "cell_type": "code",
   "execution_count": null,
   "metadata": {},
   "outputs": [],
   "source": [
    "import smtplib\n",
    "import ssl\n"
   ]
  },
  {
   "cell_type": "code",
   "execution_count": null,
   "metadata": {},
   "outputs": [],
   "source": [
    " #need to make sending mail temporay lees secure for both versions 1 + 2 - then once done turn on again\n",
    "    \n",
    "https://myaccount.google.com/lesssecureapps?"
   ]
  },
  {
   "cell_type": "code",
   "execution_count": null,
   "metadata": {},
   "outputs": [],
   "source": [
    "email = 'my@gmail.com'\n",
    "password ='somepassword'\n",
    "message=\"\"\"/\n",
    "\n",
    "'Hello World!.'\n",
    "\n",
    "\"\"\"\n",
    "\n",
    "reciever = 'your@gmail.com'\n",
    "\n",
    "\n",
    "\n",
    "#connection\n",
    "\n",
    "sslcontext= ssl.create_default_context()\n",
    "\n",
    "connection = smtplib.SMTP_SSL('smtp.gmail.com', 465, context =sslcontext )\n",
    "\n",
    "connection.login(email, password)\n",
    "connection.sendmail(email, reciever, message)\n",
    "\n",
    "print('your message is sent')\n",
    "    "
   ]
  },
  {
   "cell_type": "markdown",
   "metadata": {},
   "source": [
    "## version 2"
   ]
  },
  {
   "cell_type": "code",
   "execution_count": 3,
   "metadata": {},
   "outputs": [],
   "source": [
    "import smtplib\n",
    "import ssl\n",
    "from email.message import EmailMessage\n",
    "import laPorta #email details in .py file or text.txt"
   ]
  },
  {
   "cell_type": "code",
   "execution_count": 6,
   "metadata": {},
   "outputs": [],
   "source": [
    "\n",
    "me= laPorta\n",
    "email =me.email\n",
    "password =me.password\n",
    "\n",
    "message = EmailMessage()\n",
    "message['Subject'] = 'Surf this weekend'\n",
    "message['From'] = email\n",
    "message['To'] = 'you@yahoo.com'\n",
    "message.set_content('re : where should we go for a surf- I suggest Malabar?')\n",
    "\n",
    "#connection\n",
    "\n",
    "sslcontext= ssl.create_default_context()\n",
    "\n",
    "for i in range (0,1000):# how many spams you want to send\n",
    "\n",
    "    connection = smtplib.SMTP_SSL('smtp.gmail.com', 465, context =sslcontext )\n",
    "    connection.login(email, password)\n",
    "    connection.send_message(message)\n",
    "\n",
    "  "
   ]
  },
  {
   "cell_type": "code",
   "execution_count": 1,
   "metadata": {},
   "outputs": [
    {
     "data": {
      "text/plain": [
       "'C:\\\\Users\\\\Alan\\\\EmailOutforSpam'"
      ]
     },
     "execution_count": 1,
     "metadata": {},
     "output_type": "execute_result"
    }
   ],
   "source": [
    "pwd "
   ]
  },
  {
   "cell_type": "code",
   "execution_count": null,
   "metadata": {},
   "outputs": [],
   "source": []
  }
 ],
 "metadata": {
  "kernelspec": {
   "display_name": "Python 3",
   "language": "python",
   "name": "python3"
  },
  "language_info": {
   "codemirror_mode": {
    "name": "ipython",
    "version": 3
   },
   "file_extension": ".py",
   "mimetype": "text/x-python",
   "name": "python",
   "nbconvert_exporter": "python",
   "pygments_lexer": "ipython3",
   "version": "3.7.9"
  }
 },
 "nbformat": 4,
 "nbformat_minor": 4
}
